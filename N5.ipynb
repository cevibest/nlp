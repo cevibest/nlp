{
 "cells": [
  {
   "cell_type": "code",
   "execution_count": 4,
   "id": "1627d3c6",
   "metadata": {},
   "outputs": [
    {
     "name": "stdout",
     "output_type": "stream",
     "text": [
      "'replay' added!\n",
      "'teacher' deleted!\n",
      "\n",
      "Prefix   | Root       | Suffix   | Word           \n",
      "un       | unhappi    | unhappi  | unhappiness    \n",
      "re       | reread     | reread   | rereading      \n",
      "re       | play       | play     | replay         \n"
     ]
    },
    {
     "name": "stderr",
     "output_type": "stream",
     "text": [
      "[nltk_data] Downloading package wordnet to\n",
      "[nltk_data]     C:\\Users\\Prasanna\\AppData\\Roaming\\nltk_data...\n",
      "[nltk_data]   Package wordnet is already up-to-date!\n"
     ]
    }
   ],
   "source": [
    "import nltk\n",
    "from nltk.stem import WordNetLemmatizer\n",
    "\n",
    "nltk.download('wordnet')\n",
    "\n",
    "# Initialize lemmatizer and word list\n",
    "lemmatizer = WordNetLemmatizer()\n",
    "prefixes, suffixes, words = [\"un\", \"re\"], [\"ness\", \"ing\", \"er\"], [\"unhappiness\", \"teacher\", \"rereading\"]\n",
    "\n",
    "# Modify word list (add or delete)\n",
    "def modify(word, action='add'):\n",
    "    if action == 'add' and word not in words: words.append(word)\n",
    "    elif action == 'delete' and word in words: words.remove(word)\n",
    "    print(f\"'{word}' {'added' if action == 'add' else 'deleted'}!\")\n",
    "\n",
    "# Display table\n",
    "def display_table():\n",
    "    print(f\"\\n{'Prefix':<8} | {'Root':<10} | {'Suffix':<8} | {'Word':<15}\")\n",
    "    for word in words:\n",
    "        prefix, suffix = next(((pre, word[len(pre):]) for pre in prefixes if word.startswith(pre)), (\"\", word))\n",
    "        suffix = next((word[:-len(suf)] for suf in suffixes if word.endswith(suf)), suffix)\n",
    "        root = lemmatizer.lemmatize(suffix)\n",
    "        print(f\"{prefix:<8} | {root:<10} | {suffix:<8} | {word:<15}\")\n",
    "\n",
    "# Example usage\n",
    "modify(\"replay\", 'add')\n",
    "modify(\"teacher\", 'delete')\n",
    "display_table()"
   ]
  },
  {
   "cell_type": "code",
   "execution_count": null,
   "id": "cdbea3c6",
   "metadata": {},
   "outputs": [],
   "source": []
  }
 ],
 "metadata": {
  "kernelspec": {
   "display_name": "Python 3 (ipykernel)",
   "language": "python",
   "name": "python3"
  },
  "language_info": {
   "codemirror_mode": {
    "name": "ipython",
    "version": 3
   },
   "file_extension": ".py",
   "mimetype": "text/x-python",
   "name": "python",
   "nbconvert_exporter": "python",
   "pygments_lexer": "ipython3",
   "version": "3.9.7"
  }
 },
 "nbformat": 4,
 "nbformat_minor": 5
}
