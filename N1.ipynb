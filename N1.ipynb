{
 "cells": [
  {
   "cell_type": "code",
   "execution_count": 1,
   "id": "ee627307",
   "metadata": {},
   "outputs": [
    {
     "name": "stderr",
     "output_type": "stream",
     "text": [
      "[nltk_data] Downloading package punkt to\n",
      "[nltk_data]     C:\\Users\\Prasanna\\AppData\\Roaming\\nltk_data...\n",
      "[nltk_data]   Package punkt is already up-to-date!\n",
      "[nltk_data] Downloading package wordnet to\n",
      "[nltk_data]     C:\\Users\\Prasanna\\AppData\\Roaming\\nltk_data...\n",
      "[nltk_data]   Package wordnet is already up-to-date!\n"
     ]
    },
    {
     "name": "stdout",
     "output_type": "stream",
     "text": [
      "Whitespace: [\"I'm\", 'loving', 'the', 'new', 'AI-based', 'chatbot,', \"it's\", 'super', 'cool', 'and', 'helpful!']\n",
      "Punctuation: ['I', \"'\", 'm', 'loving', 'the', 'new', 'AI', '-', 'based', 'chatbot', ',', 'it', \"'\", 's', 'super', 'cool', 'and', 'helpful', '!']\n",
      "Treebank: ['I', \"'m\", 'loving', 'the', 'new', 'AI-based', 'chatbot', ',', 'it', \"'s\", 'super', 'cool', 'and', 'helpful', '!']\n",
      "Tweet: [\"I'm\", 'loving', 'the', 'new', 'AI-based', 'chatbot', ',', \"it's\", 'super', 'cool', 'and', 'helpful', '!']\n",
      "MWE: [\"I'm\", 'loving', 'the', 'new', 'AI-based', 'chatbot,', \"it's\", 'super', 'cool', 'and', 'helpful!']\n",
      "Porter Stemmer: ['i', \"'m\", 'love', 'the', 'new', 'ai-bas', 'chatbot', ',', 'it', \"'s\", 'super', 'cool', 'and', 'help', '!']\n",
      "Snowball Stemmer: ['i', \"'m\", 'love', 'the', 'new', 'ai-bas', 'chatbot', ',', 'it', \"'s\", 'super', 'cool', 'and', 'help', '!']\n",
      "Lemmatized: ['I', \"'m\", 'loving', 'the', 'new', 'AI-based', 'chatbot', ',', 'it', \"'s\", 'super', 'cool', 'and', 'helpful', '!']\n"
     ]
    }
   ],
   "source": [
    "import nltk\n",
    "from nltk.tokenize import WhitespaceTokenizer, WordPunctTokenizer, TreebankWordTokenizer, TweetTokenizer, MWETokenizer\n",
    "from nltk.stem import PorterStemmer, SnowballStemmer, WordNetLemmatizer\n",
    "\n",
    "nltk.download('punkt')\n",
    "nltk.download('wordnet')\n",
    "\n",
    "text = \"I'm loving the new AI-based chatbot, it's super cool and helpful!\"\n",
    "\n",
    "# Tokenization\n",
    "print(\"Whitespace:\", WhitespaceTokenizer().tokenize(text))\n",
    "print(\"Punctuation:\", WordPunctTokenizer().tokenize(text))\n",
    "print(\"Treebank:\", TreebankWordTokenizer().tokenize(text))\n",
    "print(\"Tweet:\", TweetTokenizer().tokenize(text))\n",
    "print(\"MWE:\", MWETokenizer([(\"AI-based\", \"chatbot\")]).tokenize(text.split()))\n",
    "\n",
    "# Stemming\n",
    "porter = PorterStemmer()\n",
    "snowball = SnowballStemmer(\"english\")\n",
    "tokens = TreebankWordTokenizer().tokenize(text)\n",
    "print(\"Porter Stemmer:\", [porter.stem(w) for w in tokens])\n",
    "print(\"Snowball Stemmer:\", [snowball.stem(w) for w in tokens])\n",
    "\n",
    "# Lemmatization\n",
    "lemmatizer = WordNetLemmatizer()\n",
    "print(\"Lemmatized:\", [lemmatizer.lemmatize(w) for w in tokens])"
   ]
  },
  {
   "cell_type": "code",
   "execution_count": null,
   "id": "bd855a33",
   "metadata": {},
   "outputs": [],
   "source": []
  }
 ],
 "metadata": {
  "kernelspec": {
   "display_name": "Python 3 (ipykernel)",
   "language": "python",
   "name": "python3"
  },
  "language_info": {
   "codemirror_mode": {
    "name": "ipython",
    "version": 3
   },
   "file_extension": ".py",
   "mimetype": "text/x-python",
   "name": "python",
   "nbconvert_exporter": "python",
   "pygments_lexer": "ipython3",
   "version": "3.9.7"
  }
 },
 "nbformat": 4,
 "nbformat_minor": 5
}
