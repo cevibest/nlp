{
 "cells": [
  {
   "cell_type": "code",
   "execution_count": 3,
   "id": "f5f12083",
   "metadata": {},
   "outputs": [
    {
     "name": "stdout",
     "output_type": "stream",
     "text": [
      "'replay' added!\n",
      "'teacher' deleted!\n",
      "\n",
      "Prefix   | Root       | Suffix   | Word           \n",
      "--------------------------------------------------\n",
      "un       | happi      | ness     | unhappiness    \n",
      "re       | read       | ing      | rereading      \n",
      "re       | play       | er       | replay         \n"
     ]
    },
    {
     "name": "stderr",
     "output_type": "stream",
     "text": [
      "[nltk_data] Downloading package wordnet to\n",
      "[nltk_data]     C:\\Users\\Prasanna\\AppData\\Roaming\\nltk_data...\n",
      "[nltk_data]   Package wordnet is already up-to-date!\n"
     ]
    }
   ],
   "source": [
    "import nltk\n",
    "from nltk.stem import WordNetLemmatizer\n",
    "\n",
    "nltk.download('wordnet')\n",
    "\n",
    "# Initialize lemmatizer\n",
    "lemmatizer = WordNetLemmatizer()\n",
    "\n",
    "# Prefixes and suffixes\n",
    "prefixes, suffixes = [\"un\", \"re\"], [\"ness\", \"ing\", \"er\"]\n",
    "words = [\"unhappiness\", \"teacher\", \"rereading\"]\n",
    "\n",
    "# Function to add a word\n",
    "def add(word):\n",
    "    if word not in words:\n",
    "        words.append(word)\n",
    "        print(f\"'{word}' added!\")\n",
    "    else:\n",
    "        print(f\"'{word}' already exists!\")\n",
    "\n",
    "# Function to delete a word\n",
    "def delete(word):\n",
    "    if word in words:\n",
    "        words.remove(word)\n",
    "        print(f\"'{word}' deleted!\")\n",
    "    else:\n",
    "        print(f\"'{word}' not found!\")\n",
    "\n",
    "# Function to display the table\n",
    "def display_table():\n",
    "    print(f\"\\n{'Prefix':<8} | {'Root':<10} | {'Suffix':<8} | {'Word':<15}\")\n",
    "    print(\"-\" * 50)\n",
    "    for word in words:\n",
    "        prefix, suffix = \"\", word\n",
    "        for pre in prefixes: \n",
    "            if word.startswith(pre): prefix, suffix = pre, word[len(pre):]; break\n",
    "        for suf in suffixes: \n",
    "            if suffix.endswith(suf): suffix = suffix[:-len(suf)]; break\n",
    "        root = lemmatizer.lemmatize(suffix)\n",
    "        print(f\"{prefix:<8} | {root:<10} | {suf:<8} | {word:<15}\")\n",
    "\n",
    "# Example usage\n",
    "add(\"replay\")\n",
    "delete(\"teacher\")\n",
    "display_table()\n"
   ]
  },
  {
   "cell_type": "code",
   "execution_count": null,
   "id": "6d47c8cd",
   "metadata": {},
   "outputs": [],
   "source": []
  }
 ],
 "metadata": {
  "kernelspec": {
   "display_name": "Python 3 (ipykernel)",
   "language": "python",
   "name": "python3"
  },
  "language_info": {
   "codemirror_mode": {
    "name": "ipython",
    "version": 3
   },
   "file_extension": ".py",
   "mimetype": "text/x-python",
   "name": "python",
   "nbconvert_exporter": "python",
   "pygments_lexer": "ipython3",
   "version": "3.9.7"
  }
 },
 "nbformat": 4,
 "nbformat_minor": 5
}
