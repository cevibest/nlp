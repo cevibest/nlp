import nltk
from nltk.stem import WordNetLemmatizer

nltk.download('wordnet')

# Initialize lemmatizer
lemmatizer = WordNetLemmatizer()

# Prefixes and suffixes
prefixes, suffixes = ["un", "re"], ["ness", "ing", "er"]
words = ["unhappiness", "teacher", "rereading"]

# Function to add a word
def add(word):
    if word not in words:
        words.append(word)
        print(f"'{word}' added!")
    else:
        print(f"'{word}' already exists!")

# Function to delete a word
def delete(word):
    if word in words:
        words.remove(word)
        print(f"'{word}' deleted!")
    else:
        print(f"'{word}' not found!")

# Function to display the table
def display_table():
    print(f"\n{'Prefix':<8} | {'Root':<10} | {'Suffix':<8} | {'Word':<15}")
    print("-" * 50)
    for word in words:
        prefix, suffix = "", word
        for pre in prefixes: 
            if word.startswith(pre): prefix, suffix = pre, word[len(pre):]; break
        for suf in suffixes: 
            if suffix.endswith(suf): suffix = suffix[:-len(suf)]; break
        root = lemmatizer.lemmatize(suffix)
        print(f"{prefix:<8} | {root:<10} | {suf:<8} | {word:<15}")

# Example usage
add("replay")
delete("teacher")
display_table()
